{
 "cells": [
  {
   "cell_type": "markdown",
   "id": "0a2e042e",
   "metadata": {},
   "source": [
    "Question: You are given two strings word1 and word2. Merge the strings by adding letters in alternating order, starting with word1. If a string is longer than the other, append the additional letters onto the end of the merged string.\n",
    "\n",
    "Return the merged string."
   ]
  },
  {
   "cell_type": "markdown",
   "id": "10770b27",
   "metadata": {},
   "source": [
    "We simply define a class with a merging function inside the function. Here, we only use one pointer to iterate over both strings. \n",
    "Defining an empty string (word3), we then add letters alternatively starting with word1. When the alternating condition is satisfied (one of the strongs has more letters than the other), we add the rest of the two strings to the word3. "
   ]
  },
  {
   "cell_type": "code",
   "execution_count": 1,
   "id": "dacea9f5",
   "metadata": {},
   "outputs": [],
   "source": [
    "class Solution:\n",
    "    \n",
    "    def mergeAlternately(self, word1: str, word2: str) -> str:\n",
    "        i = len(word1)\n",
    "        j = len(word2)\n",
    "        m = min(i,j)\n",
    "        word3=''\n",
    "        for n in range(0,m):\n",
    "             word3 += word1[n]\n",
    "             word3 += word2[n]\n",
    "    \n",
    "        word3 +=   word1[m:i]\n",
    "        word3 += word2[m:j]\n",
    "        return word3\n",
    "\n"
   ]
  }
 ],
 "metadata": {
  "kernelspec": {
   "display_name": "Python 3 (ipykernel)",
   "language": "python",
   "name": "python3"
  },
  "language_info": {
   "codemirror_mode": {
    "name": "ipython",
    "version": 3
   },
   "file_extension": ".py",
   "mimetype": "text/x-python",
   "name": "python",
   "nbconvert_exporter": "python",
   "pygments_lexer": "ipython3",
   "version": "3.11.1"
  }
 },
 "nbformat": 4,
 "nbformat_minor": 5
}
