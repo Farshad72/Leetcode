{
 "cells": [
  {
   "cell_type": "code",
   "execution_count": 134,
   "id": "dacea9f5",
   "metadata": {},
   "outputs": [],
   "source": [
    "class Solution:\n",
    "    \n",
    "    def mergeAlternately(self, word1: str, word2: str) -> str:\n",
    "        i = len(word1)\n",
    "        j = len(word2)\n",
    "        m = min(i,j)\n",
    "        word3=''\n",
    "        for n in range(0,m):\n",
    "             word3 += word1[n]\n",
    "             word3 += word2[n]\n",
    "    \n",
    "        word3 +=   word1[m:i]\n",
    "        word3 += word2[m:j]\n",
    "        return word3\n",
    "\n"
   ]
  },
  {
   "cell_type": "code",
   "execution_count": 142,
   "id": "4a044a4a",
   "metadata": {},
   "outputs": [],
   "source": [
    "x=Solution()"
   ]
  },
  {
   "cell_type": "code",
   "execution_count": 144,
   "id": "e53648df",
   "metadata": {},
   "outputs": [
    {
     "data": {
      "text/plain": [
       "'aebddc'"
      ]
     },
     "execution_count": 144,
     "metadata": {},
     "output_type": "execute_result"
    }
   ],
   "source": [
    "x.mergeAlternately('abdc','ed')"
   ]
  },
  {
   "cell_type": "code",
   "execution_count": null,
   "id": "fe5a10eb",
   "metadata": {},
   "outputs": [],
   "source": []
  }
 ],
 "metadata": {
  "kernelspec": {
   "display_name": "Python 3 (ipykernel)",
   "language": "python",
   "name": "python3"
  },
  "language_info": {
   "codemirror_mode": {
    "name": "ipython",
    "version": 3
   },
   "file_extension": ".py",
   "mimetype": "text/x-python",
   "name": "python",
   "nbconvert_exporter": "python",
   "pygments_lexer": "ipython3",
   "version": "3.9.13"
  }
 },
 "nbformat": 4,
 "nbformat_minor": 5
}
